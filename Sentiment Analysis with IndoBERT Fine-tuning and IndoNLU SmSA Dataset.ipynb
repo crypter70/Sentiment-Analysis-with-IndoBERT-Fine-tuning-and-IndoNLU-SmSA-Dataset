{
 "cells": [
  {
   "cell_type": "markdown",
   "id": "2988f0cb-87e9-4a61-90ab-b62831f4e35a",
   "metadata": {},
   "source": [
    "# Sentiment Analysis with IndoBERT Fine-tuning and IndoNLU SmSA Dataset"
   ]
  },
  {
   "cell_type": "markdown",
   "id": "4d7d2177-4612-4062-9882-b69474c5c836",
   "metadata": {},
   "source": [
    "## Import Libraries"
   ]
  },
  {
   "cell_type": "code",
   "execution_count": 1,
   "id": "218597d2-b72c-472a-b6c6-91edab08289b",
   "metadata": {
    "tags": []
   },
   "outputs": [
    {
     "name": "stdout",
     "output_type": "stream",
     "text": [
      "tensor([1.], device='mps:0')\n"
     ]
    }
   ],
   "source": [
    "from datasets import load_dataset, load_metric\n",
    "from transformers import AutoTokenizer, AutoModelForSequenceClassification, TrainingArguments, Trainer, DataCollatorWithPadding, pipeline\n",
    "from sklearn.metrics import confusion_matrix, accuracy_score, f1_score, classification_report \n",
    "from sklearn import metrics\n",
    "\n",
    "import matplotlib.pyplot as plt\n",
    "import seaborn as sns\n",
    "import numpy as np\n",
    "\n",
    "import evaluate\n",
    "import torch\n",
    "import os\n",
    "import datasets\n",
    "\n",
    "import pandas as pd\n",
    "import random\n",
    "from IPython.display import display, HTML\n",
    "\n",
    "\n",
    "# MPS checking\n",
    "if torch.backends.mps.is_available():\n",
    "    device = torch.device(\"mps\")\n",
    "    x = torch.ones(1, device=device)\n",
    "    print (x)\n",
    "else:\n",
    "    print (\"MPS device not found.\")\n",
    "    \n",
    "torch.mps.set_per_process_memory_fraction(0.0)\n",
    "os.environ['PYTORCH_MPS_HIGH_WATERMARK_RATIO'] = '0.0'"
   ]
  },
  {
   "cell_type": "code",
   "execution_count": 2,
   "id": "69e539aa-350e-4121-b295-fd57fccd5757",
   "metadata": {},
   "outputs": [
    {
     "data": {
      "application/vnd.jupyter.widget-view+json": {
       "model_id": "d0fedae7b0db401ab28267f5d842f44f",
       "version_major": 2,
       "version_minor": 0
      },
      "text/plain": [
       "VBox(children=(HTML(value='<center> <img\\nsrc=https://huggingface.co/front/assets/huggingface_logo-noborder.sv…"
      ]
     },
     "metadata": {},
     "output_type": "display_data"
    }
   ],
   "source": [
    "from huggingface_hub import notebook_login\n",
    "\n",
    "notebook_login()"
   ]
  },
  {
   "cell_type": "code",
   "execution_count": 3,
   "id": "d9bc4502-3ac3-4013-8b32-0fd61fea54d3",
   "metadata": {},
   "outputs": [
    {
     "name": "stdout",
     "output_type": "stream",
     "text": [
      "4.39.0.dev0\n"
     ]
    }
   ],
   "source": [
    "import transformers\n",
    "\n",
    "print(transformers.__version__)"
   ]
  },
  {
   "cell_type": "code",
   "execution_count": 4,
   "id": "656a7100-4677-4c9e-8626-2013d5120e5e",
   "metadata": {},
   "outputs": [],
   "source": [
    "MODEL_CHECKPOINT = \"indobenchmark/indobert-base-p1\"\n",
    "MODEL_DIR = \"IndoBERT-Sentiment-Analysis\"\n",
    "\n",
    "LEARNING_RATE = 2e-5\n",
    "BATCH_SIZE = 6\n",
    "EPOCHS = 5"
   ]
  },
  {
   "cell_type": "markdown",
   "id": "91cd51c1-6643-4110-914d-f08aca367718",
   "metadata": {},
   "source": [
    "## Load Dataset"
   ]
  },
  {
   "cell_type": "code",
   "execution_count": 5,
   "id": "256da8fa-7ed3-487e-8080-17cd779ce20a",
   "metadata": {},
   "outputs": [
    {
     "data": {
      "text/plain": [
       "DatasetDict({\n",
       "    train: Dataset({\n",
       "        features: ['text', 'label'],\n",
       "        num_rows: 11000\n",
       "    })\n",
       "    validation: Dataset({\n",
       "        features: ['text', 'label'],\n",
       "        num_rows: 1260\n",
       "    })\n",
       "    test: Dataset({\n",
       "        features: ['text', 'label'],\n",
       "        num_rows: 500\n",
       "    })\n",
       "})"
      ]
     },
     "execution_count": 5,
     "metadata": {},
     "output_type": "execute_result"
    }
   ],
   "source": [
    "dataset = load_dataset(\"indonlp/indonlu\", \"smsa\")\n",
    "dataset"
   ]
  },
  {
   "cell_type": "code",
   "execution_count": 6,
   "id": "628946aa-7138-4f81-aacc-be62a50aaf5e",
   "metadata": {},
   "outputs": [
    {
     "data": {
      "text/plain": [
       "{'text': 'warung ini dimiliki oleh pengusaha pabrik tahu yang sudah puluhan tahun terkenal membuat tahu putih di bandung . tahu berkualitas , dipadu keahlian memasak , dipadu kretivitas , jadilah warung yang menyajikan menu utama berbahan tahu , ditambah menu umum lain seperti ayam . semuanya selera indonesia . harga cukup terjangkau . jangan lewatkan tahu bletoka nya , tidak kalah dengan yang asli dari tegal !',\n",
       " 'label': 0}"
      ]
     },
     "execution_count": 6,
     "metadata": {},
     "output_type": "execute_result"
    }
   ],
   "source": [
    "dataset[\"train\"][0]"
   ]
  },
  {
   "cell_type": "code",
   "execution_count": 7,
   "id": "6c7643e2-8aba-4dd7-89e2-4ea264433fd5",
   "metadata": {},
   "outputs": [
    {
     "data": {
      "text/plain": [
       "{'text': Value(dtype='string', id=None),\n",
       " 'label': ClassLabel(names=['positive', 'neutral', 'negative'], id=None)}"
      ]
     },
     "execution_count": 7,
     "metadata": {},
     "output_type": "execute_result"
    }
   ],
   "source": [
    "dataset['train'].features"
   ]
  },
  {
   "cell_type": "code",
   "execution_count": 8,
   "id": "41ed1ccb-e56d-40f5-83d5-095cc2053018",
   "metadata": {},
   "outputs": [],
   "source": [
    "def show_random_elements(dataset, num_examples):\n",
    "    assert num_examples <= len(dataset), \"Can't pick more elements than there are in the dataset.\"\n",
    "    picks = []\n",
    "    for _ in range(num_examples):\n",
    "        pick = random.randint(0, len(dataset)-1)\n",
    "        while pick in picks:\n",
    "            pick = random.randint(0, len(dataset)-1)\n",
    "        picks.append(pick)\n",
    "    \n",
    "    df = pd.DataFrame(dataset[picks])\n",
    "    for column, typ in dataset.features.items():\n",
    "        if isinstance(typ, datasets.ClassLabel):\n",
    "            df[column] = df[column].transform(lambda i: typ.names[i])\n",
    "    display(HTML(df.to_html()))"
   ]
  },
  {
   "cell_type": "code",
   "execution_count": 9,
   "id": "6d076391-bfcd-4a58-8be8-85bfaaf7f8a3",
   "metadata": {},
   "outputs": [
    {
     "data": {
      "text/html": [
       "<table border=\"1\" class=\"dataframe\">\n",
       "  <thead>\n",
       "    <tr style=\"text-align: right;\">\n",
       "      <th></th>\n",
       "      <th>text</th>\n",
       "      <th>label</th>\n",
       "    </tr>\n",
       "  </thead>\n",
       "  <tbody>\n",
       "    <tr>\n",
       "      <th>0</th>\n",
       "      <td>hmmm mantap coffee nya , pemandangan nya keren , ayo minum kopi di sini , terima kasih mbak della servis nya top deh :::: suka sekali pelayanan yang begitu rendah hati nya</td>\n",
       "      <td>positive</td>\n",
       "    </tr>\n",
       "    <tr>\n",
       "      <th>1</th>\n",
       "      <td>sabtu kemarin saya mampir ke yagami ramen rumah nama nya sekarang sudah ganti loh hihi , konsep nya bikin betah deh duduk manis di sana . disediakan komik juga loh di sini , sambil menunggu pesanan sambil baca komik jadi nya tidak bosan : d padahal makanan yang aku pesan datang nya juga tidak lama lama banget kok cuma ya jadi asik baca komik aja gitu sambil makan ramen .</td>\n",
       "      <td>positive</td>\n",
       "    </tr>\n",
       "    <tr>\n",
       "      <th>2</th>\n",
       "      <td>lebih kesal saya wi , 2014 tidak punya presiden ada nya cuma petugas partai</td>\n",
       "      <td>negative</td>\n",
       "    </tr>\n",
       "    <tr>\n",
       "      <th>3</th>\n",
       "      <td>makanan yang tersaji di restoran ini mempunyai selera yang sangat tinggi , begitupun dengan kualitas makanan nya yang sudah tidak diragukan lagi , restoran ini adalah restoran langganan keluarga saya , setiap kali ada waktu berkumpul bersama keluarga pasti menyempatkan waktu untuk makan malam di restoran ini , makanan yang paling memikat hati saya adalah steak , karena ini beda dari steak yang lainnya , steak nya mempunyai ukuran yang pas .</td>\n",
       "      <td>positive</td>\n",
       "    </tr>\n",
       "    <tr>\n",
       "      <th>4</th>\n",
       "      <td>berita indonesia : presiden jokowi : denyut nadi perekonomian ada di pasar rakyat</td>\n",
       "      <td>neutral</td>\n",
       "    </tr>\n",
       "    <tr>\n",
       "      <th>5</th>\n",
       "      <td>ayam kung po paling terbaik . pelayanan cepat , makanan minuman semua sedap . sudah kali ke dua datang makan ta wan . dan ke depan nya pasti bakal ke sini lagi .</td>\n",
       "      <td>positive</td>\n",
       "    </tr>\n",
       "    <tr>\n",
       "      <th>6</th>\n",
       "      <td>salah satu restoran yang saya rekomendasikan di trans studio mal trans stusio mal , cocok untuk makan siang / malam bersama keluarga . makanan nya sehat , bergizi , segar dan memiliki cita rasa yang nikmat . menu nya memang mirip dengan hidangan yang disajikan di resto sejenis .</td>\n",
       "      <td>positive</td>\n",
       "    </tr>\n",
       "    <tr>\n",
       "      <th>7</th>\n",
       "      <td>berlibur pada saat lebaran membuat kami kesusahan mencari hotel , pada akhirnya kami menginap di hyper inn paskal , dan pada saat malam hari kami berjalan kaki dari hotel untuk mencari makan di paskal makanan pasar , tempat nya sangat ramai dan banyak pilihan makanan yang dilengkapi dengan live music</td>\n",
       "      <td>positive</td>\n",
       "    </tr>\n",
       "    <tr>\n",
       "      <th>8</th>\n",
       "      <td>pak presiden pecat saja anis , mending diusut kasus korupsi - orupsi nya</td>\n",
       "      <td>negative</td>\n",
       "    </tr>\n",
       "    <tr>\n",
       "      <th>9</th>\n",
       "      <td>kemarin mereka mendaftar beasiswa djarum</td>\n",
       "      <td>neutral</td>\n",
       "    </tr>\n",
       "  </tbody>\n",
       "</table>"
      ],
      "text/plain": [
       "<IPython.core.display.HTML object>"
      ]
     },
     "metadata": {},
     "output_type": "display_data"
    }
   ],
   "source": [
    "show_random_elements(dataset[\"train\"], 10)"
   ]
  },
  {
   "cell_type": "markdown",
   "id": "f9940738-6804-4b0e-a374-d355cefeeb6b",
   "metadata": {},
   "source": [
    "## Preprocessing"
   ]
  },
  {
   "cell_type": "code",
   "execution_count": 10,
   "id": "6189fc43-d31d-4fda-b8af-3cd8cc5a975e",
   "metadata": {},
   "outputs": [],
   "source": [
    "tokenizer = AutoTokenizer.from_pretrained(MODEL_CHECKPOINT)"
   ]
  },
  {
   "cell_type": "code",
   "execution_count": 11,
   "id": "e14e478c-1c9d-49ee-9e81-a26f6127dc14",
   "metadata": {},
   "outputs": [],
   "source": [
    "def preprocess_function(examples):\n",
    "    return tokenizer(examples[\"text\"], truncation=True)"
   ]
  },
  {
   "cell_type": "code",
   "execution_count": 12,
   "id": "702e99b6-a17c-4562-8d61-dbb3cdd31252",
   "metadata": {},
   "outputs": [
    {
     "data": {
      "text/plain": [
       "DatasetDict({\n",
       "    train: Dataset({\n",
       "        features: ['text', 'label', 'input_ids', 'token_type_ids', 'attention_mask'],\n",
       "        num_rows: 11000\n",
       "    })\n",
       "    validation: Dataset({\n",
       "        features: ['text', 'label', 'input_ids', 'token_type_ids', 'attention_mask'],\n",
       "        num_rows: 1260\n",
       "    })\n",
       "    test: Dataset({\n",
       "        features: ['text', 'label', 'input_ids', 'token_type_ids', 'attention_mask'],\n",
       "        num_rows: 500\n",
       "    })\n",
       "})"
      ]
     },
     "execution_count": 12,
     "metadata": {},
     "output_type": "execute_result"
    }
   ],
   "source": [
    "tokenized = dataset.map(preprocess_function, batched=True)\n",
    "tokenized"
   ]
  },
  {
   "cell_type": "code",
   "execution_count": 13,
   "id": "f497ff16-cc38-401a-8374-907e6888c87c",
   "metadata": {},
   "outputs": [
    {
     "name": "stderr",
     "output_type": "stream",
     "text": [
      "/Users/crypter70/opt/anaconda3/envs/pytorch-gpu/lib/python3.11/site-packages/torch/_utils.py:830: UserWarning: TypedStorage is deprecated. It will be removed in the future and UntypedStorage will be the only storage class. This should only matter to you if you are using storages directly.  To access UntypedStorage directly, use tensor.untyped_storage() instead of tensor.storage()\n",
      "  return self.fget.__get__(instance, owner)()\n",
      "Some weights of BertForSequenceClassification were not initialized from the model checkpoint at indobenchmark/indobert-base-p1 and are newly initialized: ['classifier.bias', 'classifier.weight']\n",
      "You should probably TRAIN this model on a down-stream task to be able to use it for predictions and inference.\n"
     ]
    }
   ],
   "source": [
    "id2label = {0: \"POSITIVE\", 1: \"NEUTRAL\", 2: \"NEGATIVE\"}\n",
    "label2id = {\"POSITIVE\": 0, \"NEUTRAL\": 1, \"NEGATIVE\": 2}\n",
    "\n",
    "data_collator = DataCollatorWithPadding(tokenizer=tokenizer)\n",
    "model = AutoModelForSequenceClassification.from_pretrained(MODEL_CHECKPOINT, num_labels=3, id2label=id2label, label2id=label2id)"
   ]
  },
  {
   "cell_type": "code",
   "execution_count": 14,
   "id": "208b791b-0f4f-47db-af16-cfa15dc38a29",
   "metadata": {},
   "outputs": [],
   "source": [
    "def compute_metrics(eval_pred):\n",
    "    predictions, labels = eval_pred\n",
    "    predictions = np.argmax(predictions, axis=1)\n",
    "    \n",
    "    accuracy = metrics.accuracy_score(labels, predictions)\n",
    "    f1_score = metrics.f1_score(labels, predictions, average='weighted')\n",
    "    \n",
    "    return {\"accuracy\": accuracy, \"f1_score\": f1_score}"
   ]
  },
  {
   "cell_type": "markdown",
   "id": "e971a19a-7fe4-468c-990f-5d9d6d3b204c",
   "metadata": {},
   "source": [
    "## Fine-tuning Pre-trained Model"
   ]
  },
  {
   "cell_type": "code",
   "execution_count": 15,
   "id": "5443715b-c30f-468c-bed7-cf17ada3b535",
   "metadata": {},
   "outputs": [
    {
     "data": {
      "text/html": [
       "\n",
       "    <div>\n",
       "      \n",
       "      <progress value='9170' max='9170' style='width:300px; height:20px; vertical-align: middle;'></progress>\n",
       "      [9170/9170 1:30:38, Epoch 5/5]\n",
       "    </div>\n",
       "    <table border=\"1\" class=\"dataframe\">\n",
       "  <thead>\n",
       " <tr style=\"text-align: left;\">\n",
       "      <th>Step</th>\n",
       "      <th>Training Loss</th>\n",
       "      <th>Validation Loss</th>\n",
       "      <th>Accuracy</th>\n",
       "      <th>F1 Score</th>\n",
       "    </tr>\n",
       "  </thead>\n",
       "  <tbody>\n",
       "    <tr>\n",
       "      <td>500</td>\n",
       "      <td>0.349900</td>\n",
       "      <td>0.239201</td>\n",
       "      <td>0.930952</td>\n",
       "      <td>0.931086</td>\n",
       "    </tr>\n",
       "    <tr>\n",
       "      <td>1000</td>\n",
       "      <td>0.318100</td>\n",
       "      <td>0.335398</td>\n",
       "      <td>0.917460</td>\n",
       "      <td>0.915798</td>\n",
       "    </tr>\n",
       "    <tr>\n",
       "      <td>1500</td>\n",
       "      <td>0.300100</td>\n",
       "      <td>0.296470</td>\n",
       "      <td>0.923810</td>\n",
       "      <td>0.924299</td>\n",
       "    </tr>\n",
       "    <tr>\n",
       "      <td>2000</td>\n",
       "      <td>0.253400</td>\n",
       "      <td>0.351336</td>\n",
       "      <td>0.922222</td>\n",
       "      <td>0.921771</td>\n",
       "    </tr>\n",
       "    <tr>\n",
       "      <td>2500</td>\n",
       "      <td>0.169200</td>\n",
       "      <td>0.265665</td>\n",
       "      <td>0.940476</td>\n",
       "      <td>0.939941</td>\n",
       "    </tr>\n",
       "    <tr>\n",
       "      <td>3000</td>\n",
       "      <td>0.154300</td>\n",
       "      <td>0.404573</td>\n",
       "      <td>0.919841</td>\n",
       "      <td>0.919069</td>\n",
       "    </tr>\n",
       "    <tr>\n",
       "      <td>3500</td>\n",
       "      <td>0.182700</td>\n",
       "      <td>0.279976</td>\n",
       "      <td>0.931746</td>\n",
       "      <td>0.931880</td>\n",
       "    </tr>\n",
       "    <tr>\n",
       "      <td>4000</td>\n",
       "      <td>0.106100</td>\n",
       "      <td>0.335177</td>\n",
       "      <td>0.938889</td>\n",
       "      <td>0.938853</td>\n",
       "    </tr>\n",
       "    <tr>\n",
       "      <td>4500</td>\n",
       "      <td>0.063900</td>\n",
       "      <td>0.403253</td>\n",
       "      <td>0.937302</td>\n",
       "      <td>0.936542</td>\n",
       "    </tr>\n",
       "    <tr>\n",
       "      <td>5000</td>\n",
       "      <td>0.070900</td>\n",
       "      <td>0.350776</td>\n",
       "      <td>0.936508</td>\n",
       "      <td>0.935998</td>\n",
       "    </tr>\n",
       "    <tr>\n",
       "      <td>5500</td>\n",
       "      <td>0.092200</td>\n",
       "      <td>0.331300</td>\n",
       "      <td>0.939683</td>\n",
       "      <td>0.939373</td>\n",
       "    </tr>\n",
       "    <tr>\n",
       "      <td>6000</td>\n",
       "      <td>0.027400</td>\n",
       "      <td>0.363521</td>\n",
       "      <td>0.944444</td>\n",
       "      <td>0.943973</td>\n",
       "    </tr>\n",
       "    <tr>\n",
       "      <td>6500</td>\n",
       "      <td>0.027300</td>\n",
       "      <td>0.407402</td>\n",
       "      <td>0.938889</td>\n",
       "      <td>0.938738</td>\n",
       "    </tr>\n",
       "    <tr>\n",
       "      <td>7000</td>\n",
       "      <td>0.041400</td>\n",
       "      <td>0.386307</td>\n",
       "      <td>0.940476</td>\n",
       "      <td>0.940509</td>\n",
       "    </tr>\n",
       "    <tr>\n",
       "      <td>7500</td>\n",
       "      <td>0.015600</td>\n",
       "      <td>0.412816</td>\n",
       "      <td>0.941270</td>\n",
       "      <td>0.941242</td>\n",
       "    </tr>\n",
       "    <tr>\n",
       "      <td>8000</td>\n",
       "      <td>0.006700</td>\n",
       "      <td>0.446880</td>\n",
       "      <td>0.939683</td>\n",
       "      <td>0.939950</td>\n",
       "    </tr>\n",
       "    <tr>\n",
       "      <td>8500</td>\n",
       "      <td>0.005600</td>\n",
       "      <td>0.429704</td>\n",
       "      <td>0.944444</td>\n",
       "      <td>0.944458</td>\n",
       "    </tr>\n",
       "    <tr>\n",
       "      <td>9000</td>\n",
       "      <td>0.012400</td>\n",
       "      <td>0.422744</td>\n",
       "      <td>0.945238</td>\n",
       "      <td>0.945135</td>\n",
       "    </tr>\n",
       "  </tbody>\n",
       "</table><p>"
      ],
      "text/plain": [
       "<IPython.core.display.HTML object>"
      ]
     },
     "metadata": {},
     "output_type": "display_data"
    },
    {
     "name": "stderr",
     "output_type": "stream",
     "text": [
      "Error during conversion: ValueError('Queue is full! Please try again.')\n"
     ]
    },
    {
     "data": {
      "text/plain": [
       "TrainOutput(global_step=9170, training_loss=0.1200256623514606, metrics={'train_runtime': 5440.4557, 'train_samples_per_second': 10.109, 'train_steps_per_second': 1.686, 'total_flos': 1957026295406196.0, 'train_loss': 0.1200256623514606, 'epoch': 5.0})"
      ]
     },
     "execution_count": 15,
     "metadata": {},
     "output_type": "execute_result"
    }
   ],
   "source": [
    "training_args = TrainingArguments(\n",
    "    output_dir=MODEL_DIR,\n",
    "    evaluation_strategy=\"steps\",\n",
    "    logging_strategy=\"steps\",\n",
    "    learning_rate=LEARNING_RATE,\n",
    "    per_device_train_batch_size=BATCH_SIZE,\n",
    "    per_device_eval_batch_size=BATCH_SIZE,\n",
    "    num_train_epochs=EPOCHS,\n",
    "    weight_decay=0.01,\n",
    ")\n",
    "\n",
    "trainer = Trainer(\n",
    "    model=model,\n",
    "    args=training_args,\n",
    "    train_dataset=tokenized[\"train\"],\n",
    "    eval_dataset=tokenized[\"validation\"],\n",
    "    tokenizer=tokenizer,\n",
    "    data_collator=data_collator,\n",
    "    compute_metrics=compute_metrics\n",
    ")\n",
    "\n",
    "trainer.train()"
   ]
  },
  {
   "cell_type": "markdown",
   "id": "b051ad60-839e-4dac-9ed6-e806f018767f",
   "metadata": {},
   "source": [
    "## Evaluate"
   ]
  },
  {
   "cell_type": "code",
   "execution_count": 16,
   "id": "b2807a2f-3049-465f-8c08-d01960bb917f",
   "metadata": {},
   "outputs": [
    {
     "data": {
      "text/html": [],
      "text/plain": [
       "<IPython.core.display.HTML object>"
      ]
     },
     "metadata": {},
     "output_type": "display_data"
    },
    {
     "data": {
      "text/plain": [
       "{'eval_loss': 0.4220746159553528,\n",
       " 'eval_accuracy': 0.9452380952380952,\n",
       " 'eval_f1_score': 0.9451348992924798,\n",
       " 'eval_runtime': 30.3562,\n",
       " 'eval_samples_per_second': 41.507,\n",
       " 'eval_steps_per_second': 6.918,\n",
       " 'epoch': 5.0}"
      ]
     },
     "execution_count": 16,
     "metadata": {},
     "output_type": "execute_result"
    }
   ],
   "source": [
    "trainer.evaluate()"
   ]
  },
  {
   "cell_type": "code",
   "execution_count": 17,
   "id": "6f1e87da-1f8d-4ecb-8db1-10c31d2cde8a",
   "metadata": {},
   "outputs": [],
   "source": [
    "trainer.save_model(MODEL_DIR)"
   ]
  },
  {
   "cell_type": "code",
   "execution_count": 18,
   "id": "3675ac0a-9c6c-44d8-8e02-b54f86e36498",
   "metadata": {},
   "outputs": [
    {
     "name": "stderr",
     "output_type": "stream",
     "text": [
      "python3(84363) MallocStackLogging: can't turn off malloc stack logging because it was not enabled.\n"
     ]
    },
    {
     "data": {
      "application/vnd.jupyter.widget-view+json": {
       "model_id": "7578b76abb8649c5b6d075a044df4802",
       "version_major": 2,
       "version_minor": 0
      },
      "text/plain": [
       "Upload 2 LFS files:   0%|          | 0/2 [00:00<?, ?it/s]"
      ]
     },
     "metadata": {},
     "output_type": "display_data"
    },
    {
     "data": {
      "application/vnd.jupyter.widget-view+json": {
       "model_id": "e958c5689dc74c71af3b3c43c77cfbb0",
       "version_major": 2,
       "version_minor": 0
      },
      "text/plain": [
       "training_args.bin:   0%|          | 0.00/4.92k [00:00<?, ?B/s]"
      ]
     },
     "metadata": {},
     "output_type": "display_data"
    },
    {
     "data": {
      "application/vnd.jupyter.widget-view+json": {
       "model_id": "ff121dd52b3f4f8ebe7ca0ef57cde1d0",
       "version_major": 2,
       "version_minor": 0
      },
      "text/plain": [
       "model.safetensors:   0%|          | 0.00/498M [00:00<?, ?B/s]"
      ]
     },
     "metadata": {},
     "output_type": "display_data"
    },
    {
     "data": {
      "text/plain": [
       "CommitInfo(commit_url='https://huggingface.co/crypter70/IndoBERT-Sentiment-Analysis/commit/c1f49b81a457d40a6ee084ac73bdafd0e7eff6a2', commit_message='End of training', commit_description='', oid='c1f49b81a457d40a6ee084ac73bdafd0e7eff6a2', pr_url=None, pr_revision=None, pr_num=None)"
      ]
     },
     "execution_count": 18,
     "metadata": {},
     "output_type": "execute_result"
    }
   ],
   "source": [
    "trainer.push_to_hub()"
   ]
  },
  {
   "cell_type": "code",
   "execution_count": 19,
   "id": "2ee96b02-5cce-4090-a40f-3ae4b2a3df9a",
   "metadata": {},
   "outputs": [
    {
     "name": "stdout",
     "output_type": "stream",
     "text": [
      "Accuracy: 0.906\n",
      "F1-score: 0.9010698039215687\n",
      "Classification Report:\n",
      "              precision    recall  f1-score   support\n",
      "\n",
      "           0       0.91      0.95      0.93       208\n",
      "           1       0.90      0.64      0.75        88\n",
      "           2       0.90      0.98      0.94       204\n",
      "\n",
      "    accuracy                           0.91       500\n",
      "   macro avg       0.91      0.85      0.87       500\n",
      "weighted avg       0.91      0.91      0.90       500\n",
      "\n"
     ]
    }
   ],
   "source": [
    "predictions = trainer.predict(tokenized[\"test\"])\n",
    "predicted_labels = predictions.predictions.argmax(-1)\n",
    "true_labels = tokenized[\"test\"][\"label\"]\n",
    "\n",
    "accuracy = accuracy_score(true_labels, predicted_labels)\n",
    "f1 = f1_score(true_labels, predicted_labels, average='weighted')\n",
    "\n",
    "print(\"Accuracy:\", accuracy)\n",
    "print(\"F1-score:\", f1)\n",
    "\n",
    "# Classification report\n",
    "print(\"Classification Report:\")\n",
    "print(classification_report(true_labels, predicted_labels))"
   ]
  },
  {
   "cell_type": "code",
   "execution_count": 20,
   "id": "883f6b50-3555-42d9-ab2a-9044f21946a6",
   "metadata": {},
   "outputs": [
    {
     "data": {
      "text/plain": [
       "array([[197,   6,   5],\n",
       "       [ 16,  56,  16],\n",
       "       [  4,   0, 200]])"
      ]
     },
     "execution_count": 20,
     "metadata": {},
     "output_type": "execute_result"
    }
   ],
   "source": [
    "cm = confusion_matrix(true_labels, predicted_labels)\n",
    "cm"
   ]
  },
  {
   "cell_type": "code",
   "execution_count": 21,
   "id": "0d4c70db-db17-493c-addf-788a9f8c030f",
   "metadata": {},
   "outputs": [
    {
     "data": {
      "image/png": "[encoded data removed]",
      "text/plain": [
       "<Figure size 800x600 with 2 Axes>"
      ]
     },
     "metadata": {},
     "output_type": "display_data"
    }
   ],
   "source": [
    "plt.figure(figsize=(8, 6))\n",
    "plt.title(\"Confusion Matrix\", y=1.05)\n",
    "\n",
    "g = sns.heatmap(cm, annot=True, fmt=\"d\", cmap=\"Blues\", \n",
    "            xticklabels=[\"Positive\", \"Neutral\", \"Negative\"], \n",
    "            yticklabels=[\"Positive\", \"Neutral\", \"Negative\"])\n",
    "\n",
    "g.set(ylabel='True Label', xlabel='Predicted Label')\n",
    "plt.show()"
   ]
  },
  {
   "cell_type": "markdown",
   "id": "c82bd4ba-4aa4-4949-85f9-8f447f5abdc3",
   "metadata": {},
   "source": [
    "## Using Model with Pipeline"
   ]
  },
  {
   "cell_type": "code",
   "execution_count": 22,
   "id": "9ded0a34-fd8c-4483-add2-aaa22c6a41cf",
   "metadata": {},
   "outputs": [],
   "source": [
    "model_dir = MODEL_DIR\n",
    "tokenizer_dir = MODEL_DIR\n",
    "\n",
    "model = AutoModelForSequenceClassification.from_pretrained(model_dir, num_labels=3)\n",
    "tokenizer = AutoTokenizer.from_pretrained(tokenizer_dir)\n",
    "\n",
    "classifier = pipeline(\"text-classification\", model=model, tokenizer=tokenizer)"
   ]
  },
  {
   "cell_type": "markdown",
   "id": "0dc86c61-1c9a-488f-9acd-9f1c4e8305ad",
   "metadata": {},
   "source": [
    "### Positive Sentiment Testing"
   ]
  },
  {
   "cell_type": "code",
   "execution_count": 23,
   "id": "87737c9e-6a17-4164-a9cc-aa21b62600b7",
   "metadata": {},
   "outputs": [
    {
     "data": {
      "text/plain": [
       "[{'label': 'POSITIVE', 'score': 0.9999681711196899}]"
      ]
     },
     "execution_count": 23,
     "metadata": {},
     "output_type": "execute_result"
    }
   ],
   "source": [
    "text = \"\"\"\n",
    "Doi asik bgt orangnya\n",
    "\"\"\"\n",
    "\n",
    "classifier(text)"
   ]
  },
  {
   "cell_type": "markdown",
   "id": "ff2cd5e3-1330-4a19-89ad-01cb63a338d9",
   "metadata": {},
   "source": [
    "### Neutral Sentiment Testing"
   ]
  },
  {
   "cell_type": "code",
   "execution_count": 24,
   "id": "a5fc4a2f-ff52-4ff5-9c3a-5cf50cdb40c0",
   "metadata": {},
   "outputs": [
    {
     "data": {
      "text/plain": [
       "[{'label': 'NEUTRAL', 'score': 0.9999117851257324}]"
      ]
     },
     "execution_count": 24,
     "metadata": {},
     "output_type": "execute_result"
    }
   ],
   "source": [
    "text = \"\"\"\n",
    "Ada pengumuman nih gaiss, besok kegiatan kantor diliburkan\n",
    "\"\"\"\n",
    "\n",
    "classifier(text)"
   ]
  },
  {
   "cell_type": "markdown",
   "id": "bee171bd-940e-46d7-8e2a-3696c68a44fd",
   "metadata": {},
   "source": [
    "### Negative Sentiment Testing"
   ]
  },
  {
   "cell_type": "code",
   "execution_count": 25,
   "id": "b6ef089c-f029-4d3a-8122-ae7edd2a8a21",
   "metadata": {},
   "outputs": [
    {
     "data": {
      "text/plain": [
       "[{'label': 'NEGATIVE', 'score': 0.9999523162841797}]"
      ]
     },
     "execution_count": 25,
     "metadata": {},
     "output_type": "execute_result"
    }
   ],
   "source": [
    "text = \"\"\"\n",
    "Kok gni sih kelakuannya\n",
    "\"\"\"\n",
    "\n",
    "classifier(text)"
   ]
  }
 ],
 "metadata": {
  "kernelspec": {
   "display_name": "pytorch-gpu",
   "language": "python",
   "name": "pytorch-gpu"
  },
  "language_info": {
   "codemirror_mode": {
    "name": "ipython",
    "version": 3
   },
   "file_extension": ".py",
   "mimetype": "text/x-python",
   "name": "python",
   "nbconvert_exporter": "python",
   "pygments_lexer": "ipython3",
   "version": "3.11.4"
  }
 },
 "nbformat": 4,
 "nbformat_minor": 5
}
